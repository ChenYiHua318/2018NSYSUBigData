{
 "cells": [
  {
   "cell_type": "markdown",
   "metadata": {},
   "source": [
    "# －－－－－主題 : 財報公布前預測企業價值,持有報酬高?－－－－－－"
   ]
  },
  {
   "cell_type": "markdown",
   "metadata": {},
   "source": [
    "## ．目錄:\n",
    "一、 資料說明\n",
    "\n",
    "二、 資料處理\n",
    "\n",
    "三、 迴圈前測試\n",
    "\n",
    "四、 迴圈---以code做groupby,做預測"
   ]
  },
  {
   "cell_type": "markdown",
   "metadata": {},
   "source": [
    "## 一、【資料說明】\n",
    "1. 資料樣本 : 台灣加權股市上市股票\n",
    "2. 資料期間 : 2008~2017\n",
    "3. 輸入變數 : 財報資訊  \n",
    "（GPM、OPM、NIM、EBITDA、現金、應收帳款、存貨、固定資產、廠房與設備投資、流動資產、流動負債、leverage、revenue、市值、GOR）"
   ]
  },
  {
   "cell_type": "code",
   "execution_count": 1,
   "metadata": {},
   "outputs": [],
   "source": [
    "import pandas as pd\n",
    "import numpy as np\n",
    "import csv\n",
    "from sklearn.preprocessing import StandardScaler\n",
    "from sklearn.ensemble import RandomForestClassifier\n",
    "from sklearn import model_selection, ensemble, preprocessing, metrics"
   ]
  },
  {
   "cell_type": "markdown",
   "metadata": {},
   "source": [
    "．輸入資料　（pd.read_csv）"
   ]
  },
  {
   "cell_type": "code",
   "execution_count": 2,
   "metadata": {},
   "outputs": [],
   "source": [
    "data=pd.read_csv(\"python_data1.csv\",engine='python')"
   ]
  },
  {
   "cell_type": "markdown",
   "metadata": {},
   "source": [
    "．查看前2筆資料　（.head(2)）"
   ]
  },
  {
   "cell_type": "code",
   "execution_count": 3,
   "metadata": {
    "scrolled": false
   },
   "outputs": [
    {
     "data": {
      "text/html": [
       "<div>\n",
       "<style scoped>\n",
       "    .dataframe tbody tr th:only-of-type {\n",
       "        vertical-align: middle;\n",
       "    }\n",
       "\n",
       "    .dataframe tbody tr th {\n",
       "        vertical-align: top;\n",
       "    }\n",
       "\n",
       "    .dataframe thead th {\n",
       "        text-align: right;\n",
       "    }\n",
       "</style>\n",
       "<table border=\"1\" class=\"dataframe\">\n",
       "  <thead>\n",
       "    <tr style=\"text-align: right;\">\n",
       "      <th></th>\n",
       "      <th>code</th>\n",
       "      <th>date</th>\n",
       "      <th>GPM</th>\n",
       "      <th>OPM</th>\n",
       "      <th>NIM</th>\n",
       "      <th>EBITDA</th>\n",
       "      <th>cash</th>\n",
       "      <th>account_receviable</th>\n",
       "      <th>inventory</th>\n",
       "      <th>fixed_asset</th>\n",
       "      <th>invest</th>\n",
       "      <th>liq_asset</th>\n",
       "      <th>liq_liability</th>\n",
       "      <th>leverage</th>\n",
       "      <th>revenue</th>\n",
       "      <th>mkt_value</th>\n",
       "      <th>GOR</th>\n",
       "    </tr>\n",
       "  </thead>\n",
       "  <tbody>\n",
       "    <tr>\n",
       "      <th>0</th>\n",
       "      <td>1101</td>\n",
       "      <td>200803</td>\n",
       "      <td>13.91</td>\n",
       "      <td>9.89</td>\n",
       "      <td>9.53</td>\n",
       "      <td>4041764</td>\n",
       "      <td>12423117</td>\n",
       "      <td>7631637</td>\n",
       "      <td>7302870</td>\n",
       "      <td>115287797</td>\n",
       "      <td>-2650659</td>\n",
       "      <td>57091512</td>\n",
       "      <td>29783960</td>\n",
       "      <td>46.86</td>\n",
       "      <td>17906537</td>\n",
       "      <td>191344000.0</td>\n",
       "      <td>-0.1019</td>\n",
       "    </tr>\n",
       "    <tr>\n",
       "      <th>1</th>\n",
       "      <td>1101</td>\n",
       "      <td>200806</td>\n",
       "      <td>12.17</td>\n",
       "      <td>8.28</td>\n",
       "      <td>11.23</td>\n",
       "      <td>8364504</td>\n",
       "      <td>11760556</td>\n",
       "      <td>9501174</td>\n",
       "      <td>6841077</td>\n",
       "      <td>119771536</td>\n",
       "      <td>-7462419</td>\n",
       "      <td>54362283</td>\n",
       "      <td>42792997</td>\n",
       "      <td>51.40</td>\n",
       "      <td>38460834</td>\n",
       "      <td>133194000.0</td>\n",
       "      <td>0.0683</td>\n",
       "    </tr>\n",
       "  </tbody>\n",
       "</table>\n",
       "</div>"
      ],
      "text/plain": [
       "   code    date    GPM   OPM    NIM   EBITDA      cash  account_receviable  \\\n",
       "0  1101  200803  13.91  9.89   9.53  4041764  12423117             7631637   \n",
       "1  1101  200806  12.17  8.28  11.23  8364504  11760556             9501174   \n",
       "\n",
       "   inventory  fixed_asset   invest  liq_asset  liq_liability  leverage  \\\n",
       "0    7302870    115287797 -2650659   57091512       29783960     46.86   \n",
       "1    6841077    119771536 -7462419   54362283       42792997     51.40   \n",
       "\n",
       "    revenue    mkt_value     GOR  \n",
       "0  17906537  191344000.0 -0.1019  \n",
       "1  38460834  133194000.0  0.0683  "
      ]
     },
     "execution_count": 3,
     "metadata": {},
     "output_type": "execute_result"
    }
   ],
   "source": [
    "data.head(2)"
   ]
  },
  {
   "cell_type": "markdown",
   "metadata": {},
   "source": [
    "．觀察資料缺值、型態　（.info()）"
   ]
  },
  {
   "cell_type": "code",
   "execution_count": 4,
   "metadata": {},
   "outputs": [
    {
     "name": "stdout",
     "output_type": "stream",
     "text": [
      "<class 'pandas.core.frame.DataFrame'>\n",
      "RangeIndex: 25960 entries, 0 to 25959\n",
      "Data columns (total 17 columns):\n",
      "code                  25960 non-null int64\n",
      "date                  25960 non-null int64\n",
      "GPM                   25960 non-null float64\n",
      "OPM                   25960 non-null float64\n",
      "NIM                   25960 non-null float64\n",
      "EBITDA                25960 non-null int64\n",
      "cash                  25960 non-null int64\n",
      "account_receviable    25960 non-null int64\n",
      "inventory             25960 non-null int64\n",
      "fixed_asset           25960 non-null int64\n",
      "invest                25960 non-null int64\n",
      "liq_asset             25960 non-null int64\n",
      "liq_liability         25960 non-null int64\n",
      "leverage              25960 non-null float64\n",
      "revenue               25960 non-null int64\n",
      "mkt_value             25960 non-null float64\n",
      "GOR                   25960 non-null float64\n",
      "dtypes: float64(6), int64(11)\n",
      "memory usage: 3.4 MB\n"
     ]
    }
   ],
   "source": [
    "data.info()"
   ]
  },
  {
   "cell_type": "markdown",
   "metadata": {},
   "source": [
    "筆記: 合併資料-->  類似R裡面的c-bind: pd.concat ( [A,B] ,axis=1 )    |  R裡面的r-bind: A.append(B)"
   ]
  },
  {
   "cell_type": "markdown",
   "metadata": {},
   "source": [
    "## 二、【資料處理】"
   ]
  },
  {
   "cell_type": "markdown",
   "metadata": {},
   "source": [
    "新增欄位:"
   ]
  },
  {
   "cell_type": "code",
   "execution_count": 5,
   "metadata": {},
   "outputs": [],
   "source": [
    "# 企業價值(EV)欄位\n",
    "data['EV'] = data['mkt_value'] + data['liq_liability'] - data['cash']\n",
    "\n",
    "# 計算EBITDA/EV，並將數值X1000 (為了使後續轉整數值時，仍可保持數值相對大小。如:將0.019轉成19)\n",
    "data['EBITDA_EV'] = (data['EBITDA'] / data['EV'])*1000   # 0.1% 單位\n",
    "\n",
    "# 將如上述相同的GOR數值X100\n",
    "data['GOR'] = data['GOR']*100"
   ]
  },
  {
   "cell_type": "markdown",
   "metadata": {},
   "source": [
    "將數值轉整數:　（.astype(int)）"
   ]
  },
  {
   "cell_type": "code",
   "execution_count": 6,
   "metadata": {},
   "outputs": [],
   "source": [
    "data = data.astype(int)"
   ]
  },
  {
   "cell_type": "markdown",
   "metadata": {},
   "source": [
    "敘述統計:　　（.describe()）"
   ]
  },
  {
   "cell_type": "code",
   "execution_count": 7,
   "metadata": {
    "scrolled": true
   },
   "outputs": [
    {
     "data": {
      "text/html": [
       "<div>\n",
       "<style scoped>\n",
       "    .dataframe tbody tr th:only-of-type {\n",
       "        vertical-align: middle;\n",
       "    }\n",
       "\n",
       "    .dataframe tbody tr th {\n",
       "        vertical-align: top;\n",
       "    }\n",
       "\n",
       "    .dataframe thead th {\n",
       "        text-align: right;\n",
       "    }\n",
       "</style>\n",
       "<table border=\"1\" class=\"dataframe\">\n",
       "  <thead>\n",
       "    <tr style=\"text-align: right;\">\n",
       "      <th></th>\n",
       "      <th>code</th>\n",
       "      <th>date</th>\n",
       "      <th>GPM</th>\n",
       "      <th>OPM</th>\n",
       "      <th>NIM</th>\n",
       "      <th>EBITDA</th>\n",
       "      <th>cash</th>\n",
       "      <th>account_receviable</th>\n",
       "      <th>inventory</th>\n",
       "      <th>fixed_asset</th>\n",
       "      <th>invest</th>\n",
       "      <th>liq_asset</th>\n",
       "      <th>liq_liability</th>\n",
       "      <th>leverage</th>\n",
       "      <th>revenue</th>\n",
       "      <th>mkt_value</th>\n",
       "      <th>GOR</th>\n",
       "      <th>EV</th>\n",
       "      <th>EBITDA_EV</th>\n",
       "    </tr>\n",
       "  </thead>\n",
       "  <tbody>\n",
       "    <tr>\n",
       "      <th>count</th>\n",
       "      <td>25960.000000</td>\n",
       "      <td>25960.000000</td>\n",
       "      <td>25960.000000</td>\n",
       "      <td>25960.000000</td>\n",
       "      <td>25960.000000</td>\n",
       "      <td>2.596000e+04</td>\n",
       "      <td>2.596000e+04</td>\n",
       "      <td>2.596000e+04</td>\n",
       "      <td>2.596000e+04</td>\n",
       "      <td>2.596000e+04</td>\n",
       "      <td>2.596000e+04</td>\n",
       "      <td>2.596000e+04</td>\n",
       "      <td>2.596000e+04</td>\n",
       "      <td>25960.000000</td>\n",
       "      <td>2.596000e+04</td>\n",
       "      <td>2.596000e+04</td>\n",
       "      <td>25960.000000</td>\n",
       "      <td>2.596000e+04</td>\n",
       "      <td>25960.000000</td>\n",
       "    </tr>\n",
       "    <tr>\n",
       "      <th>mean</th>\n",
       "      <td>3366.784284</td>\n",
       "      <td>201257.500000</td>\n",
       "      <td>19.193413</td>\n",
       "      <td>-7.795185</td>\n",
       "      <td>1.429545</td>\n",
       "      <td>1.877395e+06</td>\n",
       "      <td>4.359460e+06</td>\n",
       "      <td>4.545351e+06</td>\n",
       "      <td>4.301350e+06</td>\n",
       "      <td>9.354451e+06</td>\n",
       "      <td>-8.061903e+05</td>\n",
       "      <td>1.553805e+07</td>\n",
       "      <td>1.076097e+07</td>\n",
       "      <td>42.571726</td>\n",
       "      <td>1.636215e+07</td>\n",
       "      <td>2.200790e+07</td>\n",
       "      <td>52.925270</td>\n",
       "      <td>2.784365e+07</td>\n",
       "      <td>57.502465</td>\n",
       "    </tr>\n",
       "    <tr>\n",
       "      <th>std</th>\n",
       "      <td>2351.025044</td>\n",
       "      <td>287.253248</td>\n",
       "      <td>18.725125</td>\n",
       "      <td>401.746241</td>\n",
       "      <td>678.636725</td>\n",
       "      <td>8.046860e+06</td>\n",
       "      <td>2.277929e+07</td>\n",
       "      <td>2.318394e+07</td>\n",
       "      <td>1.682119e+07</td>\n",
       "      <td>3.217948e+07</td>\n",
       "      <td>3.370938e+06</td>\n",
       "      <td>6.527966e+07</td>\n",
       "      <td>4.785069e+07</td>\n",
       "      <td>17.557707</td>\n",
       "      <td>7.519858e+07</td>\n",
       "      <td>8.074474e+07</td>\n",
       "      <td>2894.147994</td>\n",
       "      <td>9.971105e+07</td>\n",
       "      <td>100.636994</td>\n",
       "    </tr>\n",
       "    <tr>\n",
       "      <th>min</th>\n",
       "      <td>1101.000000</td>\n",
       "      <td>200803.000000</td>\n",
       "      <td>-557.000000</td>\n",
       "      <td>-32157.000000</td>\n",
       "      <td>-22185.000000</td>\n",
       "      <td>-2.146405e+07</td>\n",
       "      <td>4.840000e+02</td>\n",
       "      <td>0.000000e+00</td>\n",
       "      <td>0.000000e+00</td>\n",
       "      <td>0.000000e+00</td>\n",
       "      <td>-9.596002e+07</td>\n",
       "      <td>-1.548831e+09</td>\n",
       "      <td>1.475000e+03</td>\n",
       "      <td>0.000000</td>\n",
       "      <td>-1.916478e+09</td>\n",
       "      <td>8.500000e+04</td>\n",
       "      <td>-99.000000</td>\n",
       "      <td>-2.147484e+09</td>\n",
       "      <td>-3196.000000</td>\n",
       "    </tr>\n",
       "    <tr>\n",
       "      <th>25%</th>\n",
       "      <td>1733.000000</td>\n",
       "      <td>201008.250000</td>\n",
       "      <td>9.000000</td>\n",
       "      <td>0.000000</td>\n",
       "      <td>0.000000</td>\n",
       "      <td>8.800350e+04</td>\n",
       "      <td>3.387805e+05</td>\n",
       "      <td>3.124900e+05</td>\n",
       "      <td>3.721892e+05</td>\n",
       "      <td>6.244542e+05</td>\n",
       "      <td>-3.571130e+05</td>\n",
       "      <td>1.846876e+06</td>\n",
       "      <td>8.713890e+05</td>\n",
       "      <td>30.000000</td>\n",
       "      <td>1.101516e+06</td>\n",
       "      <td>2.214750e+06</td>\n",
       "      <td>-11.000000</td>\n",
       "      <td>2.938812e+06</td>\n",
       "      <td>21.000000</td>\n",
       "    </tr>\n",
       "    <tr>\n",
       "      <th>50%</th>\n",
       "      <td>2464.000000</td>\n",
       "      <td>201257.500000</td>\n",
       "      <td>17.000000</td>\n",
       "      <td>4.000000</td>\n",
       "      <td>4.000000</td>\n",
       "      <td>3.250075e+05</td>\n",
       "      <td>9.045880e+05</td>\n",
       "      <td>9.186610e+05</td>\n",
       "      <td>9.416095e+05</td>\n",
       "      <td>1.659830e+06</td>\n",
       "      <td>-8.008600e+04</td>\n",
       "      <td>4.094638e+06</td>\n",
       "      <td>2.221060e+06</td>\n",
       "      <td>43.000000</td>\n",
       "      <td>3.048604e+06</td>\n",
       "      <td>5.188500e+06</td>\n",
       "      <td>0.000000</td>\n",
       "      <td>6.818246e+06</td>\n",
       "      <td>48.000000</td>\n",
       "    </tr>\n",
       "    <tr>\n",
       "      <th>75%</th>\n",
       "      <td>3481.000000</td>\n",
       "      <td>201506.750000</td>\n",
       "      <td>27.000000</td>\n",
       "      <td>10.000000</td>\n",
       "      <td>9.000000</td>\n",
       "      <td>1.009981e+06</td>\n",
       "      <td>2.414978e+06</td>\n",
       "      <td>2.547179e+06</td>\n",
       "      <td>2.772695e+06</td>\n",
       "      <td>4.976073e+06</td>\n",
       "      <td>-1.530900e+04</td>\n",
       "      <td>9.887622e+06</td>\n",
       "      <td>6.163521e+06</td>\n",
       "      <td>55.000000</td>\n",
       "      <td>8.930965e+06</td>\n",
       "      <td>1.243225e+07</td>\n",
       "      <td>13.000000</td>\n",
       "      <td>1.636509e+07</td>\n",
       "      <td>88.000000</td>\n",
       "    </tr>\n",
       "    <tr>\n",
       "      <th>max</th>\n",
       "      <td>9958.000000</td>\n",
       "      <td>201712.000000</td>\n",
       "      <td>100.000000</td>\n",
       "      <td>160.000000</td>\n",
       "      <td>81135.000000</td>\n",
       "      <td>2.891660e+08</td>\n",
       "      <td>7.550959e+08</td>\n",
       "      <td>1.229237e+09</td>\n",
       "      <td>5.609549e+08</td>\n",
       "      <td>4.663030e+08</td>\n",
       "      <td>0.000000e+00</td>\n",
       "      <td>2.045529e+09</td>\n",
       "      <td>2.025502e+09</td>\n",
       "      <td>102.000000</td>\n",
       "      <td>2.045071e+09</td>\n",
       "      <td>2.027462e+09</td>\n",
       "      <td>417465.000000</td>\n",
       "      <td>2.078569e+09</td>\n",
       "      <td>5802.000000</td>\n",
       "    </tr>\n",
       "  </tbody>\n",
       "</table>\n",
       "</div>"
      ],
      "text/plain": [
       "               code           date           GPM           OPM           NIM  \\\n",
       "count  25960.000000   25960.000000  25960.000000  25960.000000  25960.000000   \n",
       "mean    3366.784284  201257.500000     19.193413     -7.795185      1.429545   \n",
       "std     2351.025044     287.253248     18.725125    401.746241    678.636725   \n",
       "min     1101.000000  200803.000000   -557.000000 -32157.000000 -22185.000000   \n",
       "25%     1733.000000  201008.250000      9.000000      0.000000      0.000000   \n",
       "50%     2464.000000  201257.500000     17.000000      4.000000      4.000000   \n",
       "75%     3481.000000  201506.750000     27.000000     10.000000      9.000000   \n",
       "max     9958.000000  201712.000000    100.000000    160.000000  81135.000000   \n",
       "\n",
       "             EBITDA          cash  account_receviable     inventory  \\\n",
       "count  2.596000e+04  2.596000e+04        2.596000e+04  2.596000e+04   \n",
       "mean   1.877395e+06  4.359460e+06        4.545351e+06  4.301350e+06   \n",
       "std    8.046860e+06  2.277929e+07        2.318394e+07  1.682119e+07   \n",
       "min   -2.146405e+07  4.840000e+02        0.000000e+00  0.000000e+00   \n",
       "25%    8.800350e+04  3.387805e+05        3.124900e+05  3.721892e+05   \n",
       "50%    3.250075e+05  9.045880e+05        9.186610e+05  9.416095e+05   \n",
       "75%    1.009981e+06  2.414978e+06        2.547179e+06  2.772695e+06   \n",
       "max    2.891660e+08  7.550959e+08        1.229237e+09  5.609549e+08   \n",
       "\n",
       "        fixed_asset        invest     liq_asset  liq_liability      leverage  \\\n",
       "count  2.596000e+04  2.596000e+04  2.596000e+04   2.596000e+04  25960.000000   \n",
       "mean   9.354451e+06 -8.061903e+05  1.553805e+07   1.076097e+07     42.571726   \n",
       "std    3.217948e+07  3.370938e+06  6.527966e+07   4.785069e+07     17.557707   \n",
       "min    0.000000e+00 -9.596002e+07 -1.548831e+09   1.475000e+03      0.000000   \n",
       "25%    6.244542e+05 -3.571130e+05  1.846876e+06   8.713890e+05     30.000000   \n",
       "50%    1.659830e+06 -8.008600e+04  4.094638e+06   2.221060e+06     43.000000   \n",
       "75%    4.976073e+06 -1.530900e+04  9.887622e+06   6.163521e+06     55.000000   \n",
       "max    4.663030e+08  0.000000e+00  2.045529e+09   2.025502e+09    102.000000   \n",
       "\n",
       "            revenue     mkt_value            GOR            EV     EBITDA_EV  \n",
       "count  2.596000e+04  2.596000e+04   25960.000000  2.596000e+04  25960.000000  \n",
       "mean   1.636215e+07  2.200790e+07      52.925270  2.784365e+07     57.502465  \n",
       "std    7.519858e+07  8.074474e+07    2894.147994  9.971105e+07    100.636994  \n",
       "min   -1.916478e+09  8.500000e+04     -99.000000 -2.147484e+09  -3196.000000  \n",
       "25%    1.101516e+06  2.214750e+06     -11.000000  2.938812e+06     21.000000  \n",
       "50%    3.048604e+06  5.188500e+06       0.000000  6.818246e+06     48.000000  \n",
       "75%    8.930965e+06  1.243225e+07      13.000000  1.636509e+07     88.000000  \n",
       "max    2.045071e+09  2.027462e+09  417465.000000  2.078569e+09   5802.000000  "
      ]
     },
     "execution_count": 7,
     "metadata": {},
     "output_type": "execute_result"
    }
   ],
   "source": [
    "data.describe()"
   ]
  },
  {
   "cell_type": "markdown",
   "metadata": {},
   "source": [
    "偏態:  　　　（.skew(axis=0)）"
   ]
  },
  {
   "cell_type": "code",
   "execution_count": 8,
   "metadata": {},
   "outputs": [
    {
     "data": {
      "text/plain": [
       "code                    1.575811\n",
       "date                    0.000000\n",
       "GPM                    -5.194147\n",
       "OPM                   -54.849269\n",
       "NIM                    77.035320\n",
       "EBITDA                 14.442787\n",
       "cash                   21.175347\n",
       "account_receviable     20.561184\n",
       "inventory              15.891328\n",
       "fixed_asset             7.945374\n",
       "invest                -11.958904\n",
       "liq_asset              16.998355\n",
       "liq_liability          18.068881\n",
       "leverage                0.072254\n",
       "revenue                 7.855768\n",
       "mkt_value               9.680757\n",
       "GOR                   120.939992\n",
       "EV                      7.746659\n",
       "EBITDA_EV              10.405664\n",
       "dtype: float64"
      ]
     },
     "execution_count": 8,
     "metadata": {},
     "output_type": "execute_result"
    }
   ],
   "source": [
    "data.skew(axis=0)"
   ]
  },
  {
   "cell_type": "code",
   "execution_count": 9,
   "metadata": {},
   "outputs": [
    {
     "data": {
      "text/html": [
       "<div>\n",
       "<style scoped>\n",
       "    .dataframe tbody tr th:only-of-type {\n",
       "        vertical-align: middle;\n",
       "    }\n",
       "\n",
       "    .dataframe tbody tr th {\n",
       "        vertical-align: top;\n",
       "    }\n",
       "\n",
       "    .dataframe thead th {\n",
       "        text-align: right;\n",
       "    }\n",
       "</style>\n",
       "<table border=\"1\" class=\"dataframe\">\n",
       "  <thead>\n",
       "    <tr style=\"text-align: right;\">\n",
       "      <th></th>\n",
       "      <th>code</th>\n",
       "      <th>date</th>\n",
       "      <th>GPM</th>\n",
       "      <th>OPM</th>\n",
       "      <th>NIM</th>\n",
       "      <th>EBITDA</th>\n",
       "      <th>cash</th>\n",
       "      <th>account_receviable</th>\n",
       "      <th>inventory</th>\n",
       "      <th>fixed_asset</th>\n",
       "      <th>invest</th>\n",
       "      <th>liq_asset</th>\n",
       "      <th>liq_liability</th>\n",
       "      <th>leverage</th>\n",
       "      <th>revenue</th>\n",
       "      <th>mkt_value</th>\n",
       "      <th>GOR</th>\n",
       "      <th>EV</th>\n",
       "      <th>EBITDA_EV</th>\n",
       "    </tr>\n",
       "  </thead>\n",
       "  <tbody>\n",
       "    <tr>\n",
       "      <th>0</th>\n",
       "      <td>1101</td>\n",
       "      <td>200803</td>\n",
       "      <td>13</td>\n",
       "      <td>9</td>\n",
       "      <td>9</td>\n",
       "      <td>4041764</td>\n",
       "      <td>12423117</td>\n",
       "      <td>7631637</td>\n",
       "      <td>7302870</td>\n",
       "      <td>115287797</td>\n",
       "      <td>-2650659</td>\n",
       "      <td>57091512</td>\n",
       "      <td>29783960</td>\n",
       "      <td>46</td>\n",
       "      <td>17906537</td>\n",
       "      <td>191344000</td>\n",
       "      <td>-10</td>\n",
       "      <td>208704843</td>\n",
       "      <td>19</td>\n",
       "    </tr>\n",
       "    <tr>\n",
       "      <th>1</th>\n",
       "      <td>1101</td>\n",
       "      <td>200806</td>\n",
       "      <td>12</td>\n",
       "      <td>8</td>\n",
       "      <td>11</td>\n",
       "      <td>8364504</td>\n",
       "      <td>11760556</td>\n",
       "      <td>9501174</td>\n",
       "      <td>6841077</td>\n",
       "      <td>119771536</td>\n",
       "      <td>-7462419</td>\n",
       "      <td>54362283</td>\n",
       "      <td>42792997</td>\n",
       "      <td>51</td>\n",
       "      <td>38460834</td>\n",
       "      <td>133194000</td>\n",
       "      <td>6</td>\n",
       "      <td>164226441</td>\n",
       "      <td>50</td>\n",
       "    </tr>\n",
       "    <tr>\n",
       "      <th>2</th>\n",
       "      <td>1101</td>\n",
       "      <td>200809</td>\n",
       "      <td>11</td>\n",
       "      <td>7</td>\n",
       "      <td>9</td>\n",
       "      <td>11993727</td>\n",
       "      <td>10615331</td>\n",
       "      <td>9283486</td>\n",
       "      <td>8550177</td>\n",
       "      <td>122733210</td>\n",
       "      <td>-10158525</td>\n",
       "      <td>45692556</td>\n",
       "      <td>39599056</td>\n",
       "      <td>52</td>\n",
       "      <td>60944205</td>\n",
       "      <td>61399000</td>\n",
       "      <td>10</td>\n",
       "      <td>90382725</td>\n",
       "      <td>132</td>\n",
       "    </tr>\n",
       "    <tr>\n",
       "      <th>3</th>\n",
       "      <td>1101</td>\n",
       "      <td>200812</td>\n",
       "      <td>9</td>\n",
       "      <td>6</td>\n",
       "      <td>8</td>\n",
       "      <td>15111414</td>\n",
       "      <td>13033535</td>\n",
       "      <td>8386187</td>\n",
       "      <td>6908626</td>\n",
       "      <td>125807120</td>\n",
       "      <td>-14729131</td>\n",
       "      <td>43762069</td>\n",
       "      <td>39174857</td>\n",
       "      <td>51</td>\n",
       "      <td>78476558</td>\n",
       "      <td>88724000</td>\n",
       "      <td>2</td>\n",
       "      <td>114865322</td>\n",
       "      <td>131</td>\n",
       "    </tr>\n",
       "    <tr>\n",
       "      <th>4</th>\n",
       "      <td>1101</td>\n",
       "      <td>200903</td>\n",
       "      <td>9</td>\n",
       "      <td>5</td>\n",
       "      <td>2</td>\n",
       "      <td>2829888</td>\n",
       "      <td>14200950</td>\n",
       "      <td>9431949</td>\n",
       "      <td>5539320</td>\n",
       "      <td>127230295</td>\n",
       "      <td>-1963180</td>\n",
       "      <td>48506002</td>\n",
       "      <td>38714520</td>\n",
       "      <td>51</td>\n",
       "      <td>18071221</td>\n",
       "      <td>92016000</td>\n",
       "      <td>0</td>\n",
       "      <td>116529570</td>\n",
       "      <td>24</td>\n",
       "    </tr>\n",
       "  </tbody>\n",
       "</table>\n",
       "</div>"
      ],
      "text/plain": [
       "   code    date  GPM  OPM  NIM    EBITDA      cash  account_receviable  \\\n",
       "0  1101  200803   13    9    9   4041764  12423117             7631637   \n",
       "1  1101  200806   12    8   11   8364504  11760556             9501174   \n",
       "2  1101  200809   11    7    9  11993727  10615331             9283486   \n",
       "3  1101  200812    9    6    8  15111414  13033535             8386187   \n",
       "4  1101  200903    9    5    2   2829888  14200950             9431949   \n",
       "\n",
       "   inventory  fixed_asset    invest  liq_asset  liq_liability  leverage  \\\n",
       "0    7302870    115287797  -2650659   57091512       29783960        46   \n",
       "1    6841077    119771536  -7462419   54362283       42792997        51   \n",
       "2    8550177    122733210 -10158525   45692556       39599056        52   \n",
       "3    6908626    125807120 -14729131   43762069       39174857        51   \n",
       "4    5539320    127230295  -1963180   48506002       38714520        51   \n",
       "\n",
       "    revenue  mkt_value  GOR         EV  EBITDA_EV  \n",
       "0  17906537  191344000  -10  208704843         19  \n",
       "1  38460834  133194000    6  164226441         50  \n",
       "2  60944205   61399000   10   90382725        132  \n",
       "3  78476558   88724000    2  114865322        131  \n",
       "4  18071221   92016000    0  116529570         24  "
      ]
     },
     "execution_count": 9,
     "metadata": {},
     "output_type": "execute_result"
    }
   ],
   "source": [
    "data.head()"
   ]
  },
  {
   "cell_type": "markdown",
   "metadata": {},
   "source": [
    "## 三、【迴圈前測試】"
   ]
  },
  {
   "cell_type": "markdown",
   "metadata": {},
   "source": [
    "建立 code 清單"
   ]
  },
  {
   "cell_type": "code",
   "execution_count": 10,
   "metadata": {},
   "outputs": [],
   "source": [
    "code_list=pd.DataFrame(data['code'].unique())\n",
    "code_list.columns=['code']"
   ]
  },
  {
   "cell_type": "markdown",
   "metadata": {},
   "source": [
    "建立空資料（DataFrame）以記錄迴圈後資料"
   ]
  },
  {
   "cell_type": "code",
   "execution_count": 11,
   "metadata": {},
   "outputs": [],
   "source": [
    "result = pd.DataFrame()    "
   ]
  },
  {
   "cell_type": "markdown",
   "metadata": {},
   "source": [
    "－－－－－－－－－－－－－－－－－－－－－－　開始試迴圈內的程式　－－－－－－－－－－－－－－－－－－－－－－"
   ]
  },
  {
   "cell_type": "markdown",
   "metadata": {},
   "source": [
    "### ．個股新資料-->pre_data　資料"
   ]
  },
  {
   "cell_type": "markdown",
   "metadata": {},
   "source": [
    "選擇清單中第2列,第1欄資料"
   ]
  },
  {
   "cell_type": "code",
   "execution_count": 26,
   "metadata": {
    "scrolled": true
   },
   "outputs": [
    {
     "data": {
      "text/plain": [
       "1102"
      ]
     },
     "execution_count": 26,
     "metadata": {},
     "output_type": "execute_result"
    }
   ],
   "source": [
    "code_list.iloc[1,0]"
   ]
  },
  {
   "cell_type": "markdown",
   "metadata": {},
   "source": [
    "依照個股代號，從母體資料切割成新資料 (這裡命名為　pre_data　資料)"
   ]
  },
  {
   "cell_type": "code",
   "execution_count": 27,
   "metadata": {},
   "outputs": [],
   "source": [
    "# pre_data\n",
    "pre_data = data[data['code']==code_list.iloc[1,0]]"
   ]
  },
  {
   "cell_type": "markdown",
   "metadata": {},
   "source": [
    "將 EBITDA_EV 欄位做lag一期。  （.shift(+1)）\n",
    "\n",
    "再將 EBITDA_EV 與前一季做相減，作為　change　欄位的資料。 \n",
    "\n",
    "且將第一筆缺值去除。　（.dropna()）"
   ]
  },
  {
   "cell_type": "code",
   "execution_count": null,
   "metadata": {
    "scrolled": true
   },
   "outputs": [],
   "source": [
    "pre_data['EBITDA_EV_lag'] = pre_data['EBITDA_EV'].shift(+1)\n",
    "pre_data['change'] = pre_data['EBITDA_EV']-pre_data['EBITDA_EV_lag']\n",
    "pre_data = pre_data.dropna()"
   ]
  },
  {
   "cell_type": "markdown",
   "metadata": {},
   "source": [
    "若 EBITDA/EV 欄位比上一季，變動>3%。\n",
    "\n",
    "則 label 欄位為 1 ,否則為 0          （　np.where(data['A']>=30,1,0) 類似R的IF條件句　）"
   ]
  },
  {
   "cell_type": "code",
   "execution_count": 29,
   "metadata": {},
   "outputs": [],
   "source": [
    "pre_data['label'] = np.where(pre_data['change']>=30,1,0)"
   ]
  },
  {
   "cell_type": "markdown",
   "metadata": {},
   "source": [
    "### ．train資料 、text資料"
   ]
  },
  {
   "cell_type": "markdown",
   "metadata": {},
   "source": [
    "201512 前 為訓練集資料\n",
    "\n",
    "201512 後 為測試集資料"
   ]
  },
  {
   "cell_type": "code",
   "execution_count": 30,
   "metadata": {
    "scrolled": true
   },
   "outputs": [],
   "source": [
    "train = pre_data[pre_data['date']<=201512]\n",
    "test = pre_data[pre_data['date']>201512]\n",
    "#text = text[text['date']<=201612]"
   ]
  },
  {
   "cell_type": "markdown",
   "metadata": {},
   "source": [
    "選擇訓練、測試欄位"
   ]
  },
  {
   "cell_type": "code",
   "execution_count": 31,
   "metadata": {},
   "outputs": [],
   "source": [
    "select_column = ['GPM','OPM','NIM','EBITDA','cash','account_receviable','inventory','fixed_asset','invest','liq_asset','liq_liability','leverage','revenue','mkt_value','GOR','EV','EBITDA_EV','change']\n",
    "\n",
    "x_train = train[select_column]\n",
    "y_train = train['label']\n",
    "x_test = test[select_column]\n",
    "y_test = test['label']"
   ]
  },
  {
   "cell_type": "markdown",
   "metadata": {},
   "source": [
    "### ．使用隨機森林預測"
   ]
  },
  {
   "cell_type": "code",
   "execution_count": 32,
   "metadata": {},
   "outputs": [
    {
     "data": {
      "text/plain": [
       "array([0, 0, 0, 0, 0, 0, 0, 0])"
      ]
     },
     "execution_count": 32,
     "metadata": {},
     "output_type": "execute_result"
    }
   ],
   "source": [
    "# 建立模組\n",
    "rfc = RandomForestClassifier() \n",
    "# 訓練模組\n",
    "rfc.fit(x_train, y_train)\n",
    "# 預測\n",
    "EBITDA_EV_predict = rfc.predict(x_test)\n",
    "EBITDA_EV_predict"
   ]
  },
  {
   "cell_type": "markdown",
   "metadata": {},
   "source": [
    "### ．績效"
   ]
  },
  {
   "cell_type": "code",
   "execution_count": 33,
   "metadata": {},
   "outputs": [
    {
     "name": "stdout",
     "output_type": "stream",
     "text": [
      "準確率: 0.5\n",
      "AUC值: 0.5\n"
     ]
    }
   ],
   "source": [
    "# 績效\n",
    "accuracy = metrics.accuracy_score(y_test, EBITDA_EV_predict)\n",
    "fpr, tpr, thresholds = metrics.roc_curve(y_test, EBITDA_EV_predict)\n",
    "auc = metrics.auc(fpr, tpr)\n",
    "#print(auc)\n",
    "print('準確率: {}'.format(auc))\n",
    "print('AUC值: {}'.format(accuracy))"
   ]
  },
  {
   "cell_type": "markdown",
   "metadata": {},
   "source": [
    "### ．紀錄結果"
   ]
  },
  {
   "cell_type": "code",
   "execution_count": 34,
   "metadata": {},
   "outputs": [],
   "source": [
    "# EBITDA_EV_predict\n",
    "apple = pd.DataFrame(EBITDA_EV_predict)"
   ]
  },
  {
   "cell_type": "code",
   "execution_count": 35,
   "metadata": {},
   "outputs": [],
   "source": [
    "result1 = pd.DataFrame()  \n",
    "result1 = result1.append(apple)"
   ]
  },
  {
   "cell_type": "code",
   "execution_count": 36,
   "metadata": {},
   "outputs": [],
   "source": [
    "# code、AUC\n",
    "result1['code'] = code_list.iloc[1,0]\n",
    "result1['AUC'] = accuracy"
   ]
  },
  {
   "cell_type": "markdown",
   "metadata": {},
   "source": [
    "選擇特定列數 :  （.loc[[0,4],:]）\n",
    "\n",
    "只選擇2016、2017第一季之預測資料"
   ]
  },
  {
   "cell_type": "code",
   "execution_count": 37,
   "metadata": {},
   "outputs": [],
   "source": [
    "result1 = result1.loc[[0,4],:]"
   ]
  },
  {
   "cell_type": "markdown",
   "metadata": {},
   "source": [
    "將個股預測資訊，統整為新資料"
   ]
  },
  {
   "cell_type": "code",
   "execution_count": 38,
   "metadata": {},
   "outputs": [],
   "source": [
    "result = result.append(result1)"
   ]
  },
  {
   "cell_type": "code",
   "execution_count": 39,
   "metadata": {},
   "outputs": [
    {
     "data": {
      "text/html": [
       "<div>\n",
       "<style scoped>\n",
       "    .dataframe tbody tr th:only-of-type {\n",
       "        vertical-align: middle;\n",
       "    }\n",
       "\n",
       "    .dataframe tbody tr th {\n",
       "        vertical-align: top;\n",
       "    }\n",
       "\n",
       "    .dataframe thead th {\n",
       "        text-align: right;\n",
       "    }\n",
       "</style>\n",
       "<table border=\"1\" class=\"dataframe\">\n",
       "  <thead>\n",
       "    <tr style=\"text-align: right;\">\n",
       "      <th></th>\n",
       "      <th>0</th>\n",
       "      <th>code</th>\n",
       "      <th>AUC</th>\n",
       "    </tr>\n",
       "  </thead>\n",
       "  <tbody>\n",
       "    <tr>\n",
       "      <th>0</th>\n",
       "      <td>0</td>\n",
       "      <td>1101</td>\n",
       "      <td>1.0</td>\n",
       "    </tr>\n",
       "    <tr>\n",
       "      <th>4</th>\n",
       "      <td>0</td>\n",
       "      <td>1101</td>\n",
       "      <td>1.0</td>\n",
       "    </tr>\n",
       "    <tr>\n",
       "      <th>0</th>\n",
       "      <td>0</td>\n",
       "      <td>1102</td>\n",
       "      <td>0.5</td>\n",
       "    </tr>\n",
       "    <tr>\n",
       "      <th>4</th>\n",
       "      <td>0</td>\n",
       "      <td>1102</td>\n",
       "      <td>0.5</td>\n",
       "    </tr>\n",
       "  </tbody>\n",
       "</table>\n",
       "</div>"
      ],
      "text/plain": [
       "   0  code  AUC\n",
       "0  0  1101  1.0\n",
       "4  0  1101  1.0\n",
       "0  0  1102  0.5\n",
       "4  0  1102  0.5"
      ]
     },
     "execution_count": 39,
     "metadata": {},
     "output_type": "execute_result"
    }
   ],
   "source": [
    "result"
   ]
  },
  {
   "cell_type": "markdown",
   "metadata": {},
   "source": [
    "## 四、【迴圈 --- 以code做groupby,　做預測】"
   ]
  },
  {
   "cell_type": "markdown",
   "metadata": {},
   "source": [
    "建立 code 清單"
   ]
  },
  {
   "cell_type": "code",
   "execution_count": 40,
   "metadata": {
    "scrolled": false
   },
   "outputs": [],
   "source": [
    "code_list=pd.DataFrame(data['code'].unique())\n",
    "code_list.columns=['code']"
   ]
  },
  {
   "cell_type": "markdown",
   "metadata": {},
   "source": [
    "建立空資料（DataFrame）以記錄迴圈後資料"
   ]
  },
  {
   "cell_type": "code",
   "execution_count": 41,
   "metadata": {},
   "outputs": [],
   "source": [
    "result = pd.DataFrame()    "
   ]
  },
  {
   "cell_type": "code",
   "execution_count": null,
   "metadata": {},
   "outputs": [],
   "source": [
    "for ix in range(0,code_list.size):\n",
    "    #創立新的空資料、code清單。\n",
    "    result1 = pd.DataFrame()  \n",
    "    pre_data = data[data['code']==code_list.iloc[ix,0]]\n",
    "    \n",
    "    # 建立指標欄位\n",
    "    pre_data['EBITDA_EV_lag'] = pre_data['EBITDA_EV'].shift(+1)\n",
    "    pre_data['change'] = pre_data['EBITDA_EV']-pre_data['EBITDA_EV_lag']\n",
    "    pre_data = pre_data.dropna()\n",
    "    \n",
    "    pre_data['label'] = np.where(pre_data['change']>=30,1,0)\n",
    "    \n",
    "    # train、test\n",
    "    train = pre_data[pre_data['date']<=201512]\n",
    "    test = pre_data[pre_data['date']>201512]\n",
    "    \n",
    "    select_column = ['GPM','OPM','NIM','EBITDA','cash','account_receviable','inventory','fixed_asset','invest','liq_asset','liq_liability','leverage','revenue','mkt_value','GOR','EV','EBITDA_EV','change']\n",
    "    x_train = train[select_column]\n",
    "    y_train = train['label']\n",
    "    x_test = test[select_column]\n",
    "    y_test = test['label']\n",
    "    \n",
    "    # 使用隨機森林預測\n",
    "    rfc = RandomForestClassifier() \n",
    "    rfc.fit(x_train, y_train)\n",
    "    EBITDA_EV_predict = rfc.predict(x_test)\n",
    "\n",
    "    # 績效\n",
    "    accuracy = metrics.accuracy_score(y_test, EBITDA_EV_predict)\n",
    "    fpr, tpr, thresholds = metrics.roc_curve(y_test, EBITDA_EV_predict)\n",
    "    auc = metrics.auc(fpr, tpr)\n",
    "    \n",
    "    #紀錄結果\n",
    "    # EBITDA_EV_predict\n",
    "    apple = pd.DataFrame(EBITDA_EV_predict)\n",
    "    result1 = result1.append(apple)\n",
    "    # code、AUC\n",
    "    result1['code'] = code_list.iloc[ix,0]\n",
    "    result1['AUC'] = accuracy\n",
    "    result1 = result1.loc[[0,4],:]\n",
    "    \n",
    "    #合併資料\n",
    "    result = result.append(result1)\n",
    "        "
   ]
  },
  {
   "cell_type": "markdown",
   "metadata": {},
   "source": [
    "更改欄名"
   ]
  },
  {
   "cell_type": "code",
   "execution_count": 43,
   "metadata": {},
   "outputs": [],
   "source": [
    "result.columns = ['label','code','AUC']"
   ]
  },
  {
   "cell_type": "code",
   "execution_count": 44,
   "metadata": {},
   "outputs": [
    {
     "data": {
      "text/html": [
       "<div>\n",
       "<style scoped>\n",
       "    .dataframe tbody tr th:only-of-type {\n",
       "        vertical-align: middle;\n",
       "    }\n",
       "\n",
       "    .dataframe tbody tr th {\n",
       "        vertical-align: top;\n",
       "    }\n",
       "\n",
       "    .dataframe thead th {\n",
       "        text-align: right;\n",
       "    }\n",
       "</style>\n",
       "<table border=\"1\" class=\"dataframe\">\n",
       "  <thead>\n",
       "    <tr style=\"text-align: right;\">\n",
       "      <th></th>\n",
       "      <th>label</th>\n",
       "      <th>code</th>\n",
       "      <th>AUC</th>\n",
       "    </tr>\n",
       "  </thead>\n",
       "  <tbody>\n",
       "    <tr>\n",
       "      <th>0</th>\n",
       "      <td>0</td>\n",
       "      <td>1101</td>\n",
       "      <td>0.875</td>\n",
       "    </tr>\n",
       "    <tr>\n",
       "      <th>4</th>\n",
       "      <td>0</td>\n",
       "      <td>1101</td>\n",
       "      <td>0.875</td>\n",
       "    </tr>\n",
       "    <tr>\n",
       "      <th>0</th>\n",
       "      <td>0</td>\n",
       "      <td>1102</td>\n",
       "      <td>0.875</td>\n",
       "    </tr>\n",
       "    <tr>\n",
       "      <th>4</th>\n",
       "      <td>0</td>\n",
       "      <td>1102</td>\n",
       "      <td>0.875</td>\n",
       "    </tr>\n",
       "    <tr>\n",
       "      <th>0</th>\n",
       "      <td>0</td>\n",
       "      <td>1103</td>\n",
       "      <td>1.000</td>\n",
       "    </tr>\n",
       "    <tr>\n",
       "      <th>4</th>\n",
       "      <td>0</td>\n",
       "      <td>1103</td>\n",
       "      <td>1.000</td>\n",
       "    </tr>\n",
       "    <tr>\n",
       "      <th>0</th>\n",
       "      <td>0</td>\n",
       "      <td>1104</td>\n",
       "      <td>1.000</td>\n",
       "    </tr>\n",
       "    <tr>\n",
       "      <th>4</th>\n",
       "      <td>0</td>\n",
       "      <td>1104</td>\n",
       "      <td>1.000</td>\n",
       "    </tr>\n",
       "    <tr>\n",
       "      <th>0</th>\n",
       "      <td>0</td>\n",
       "      <td>1108</td>\n",
       "      <td>1.000</td>\n",
       "    </tr>\n",
       "    <tr>\n",
       "      <th>4</th>\n",
       "      <td>0</td>\n",
       "      <td>1108</td>\n",
       "      <td>1.000</td>\n",
       "    </tr>\n",
       "  </tbody>\n",
       "</table>\n",
       "</div>"
      ],
      "text/plain": [
       "   label  code    AUC\n",
       "0      0  1101  0.875\n",
       "4      0  1101  0.875\n",
       "0      0  1102  0.875\n",
       "4      0  1102  0.875\n",
       "0      0  1103  1.000\n",
       "4      0  1103  1.000\n",
       "0      0  1104  1.000\n",
       "4      0  1104  1.000\n",
       "0      0  1108  1.000\n",
       "4      0  1108  1.000"
      ]
     },
     "execution_count": 44,
     "metadata": {},
     "output_type": "execute_result"
    }
   ],
   "source": [
    "result.head(10)"
   ]
  },
  {
   "cell_type": "markdown",
   "metadata": {},
   "source": [
    "以年份 (2016 、2017)、季拆表 "
   ]
  },
  {
   "cell_type": "code",
   "execution_count": 45,
   "metadata": {},
   "outputs": [],
   "source": [
    "# 選2016、2017第一季\n",
    "pre_2016 = result.loc[[0],:]\n",
    "pre_2017 = result.loc[[4],:]"
   ]
  },
  {
   "cell_type": "code",
   "execution_count": 46,
   "metadata": {},
   "outputs": [
    {
     "data": {
      "text/html": [
       "<div>\n",
       "<style scoped>\n",
       "    .dataframe tbody tr th:only-of-type {\n",
       "        vertical-align: middle;\n",
       "    }\n",
       "\n",
       "    .dataframe tbody tr th {\n",
       "        vertical-align: top;\n",
       "    }\n",
       "\n",
       "    .dataframe thead th {\n",
       "        text-align: right;\n",
       "    }\n",
       "</style>\n",
       "<table border=\"1\" class=\"dataframe\">\n",
       "  <thead>\n",
       "    <tr style=\"text-align: right;\">\n",
       "      <th></th>\n",
       "      <th>label</th>\n",
       "      <th>code</th>\n",
       "      <th>AUC</th>\n",
       "    </tr>\n",
       "  </thead>\n",
       "  <tbody>\n",
       "    <tr>\n",
       "      <th>0</th>\n",
       "      <td>0</td>\n",
       "      <td>1101</td>\n",
       "      <td>0.875</td>\n",
       "    </tr>\n",
       "    <tr>\n",
       "      <th>0</th>\n",
       "      <td>0</td>\n",
       "      <td>1102</td>\n",
       "      <td>0.875</td>\n",
       "    </tr>\n",
       "    <tr>\n",
       "      <th>0</th>\n",
       "      <td>0</td>\n",
       "      <td>1103</td>\n",
       "      <td>1.000</td>\n",
       "    </tr>\n",
       "    <tr>\n",
       "      <th>0</th>\n",
       "      <td>0</td>\n",
       "      <td>1104</td>\n",
       "      <td>1.000</td>\n",
       "    </tr>\n",
       "    <tr>\n",
       "      <th>0</th>\n",
       "      <td>0</td>\n",
       "      <td>1108</td>\n",
       "      <td>1.000</td>\n",
       "    </tr>\n",
       "  </tbody>\n",
       "</table>\n",
       "</div>"
      ],
      "text/plain": [
       "   label  code    AUC\n",
       "0      0  1101  0.875\n",
       "0      0  1102  0.875\n",
       "0      0  1103  1.000\n",
       "0      0  1104  1.000\n",
       "0      0  1108  1.000"
      ]
     },
     "execution_count": 46,
     "metadata": {},
     "output_type": "execute_result"
    }
   ],
   "source": [
    "pre_2016.head()"
   ]
  },
  {
   "cell_type": "markdown",
   "metadata": {},
   "source": [
    "依照 EVIT/EV 增加比例（label欄位）和 準確率（AUC），做排序。 \n",
    "\n",
    ".sort_values(['要降冪排序的欄位'],ascending=False) "
   ]
  },
  {
   "cell_type": "code",
   "execution_count": 47,
   "metadata": {},
   "outputs": [],
   "source": [
    "pre_2016 = pre_2016.sort_values(['label','AUC'],ascending=False)\n",
    "pre_2017 = pre_2016.sort_values(['label','AUC'],ascending=False)"
   ]
  },
  {
   "cell_type": "code",
   "execution_count": 48,
   "metadata": {
    "scrolled": true
   },
   "outputs": [
    {
     "data": {
      "text/html": [
       "<div>\n",
       "<style scoped>\n",
       "    .dataframe tbody tr th:only-of-type {\n",
       "        vertical-align: middle;\n",
       "    }\n",
       "\n",
       "    .dataframe tbody tr th {\n",
       "        vertical-align: top;\n",
       "    }\n",
       "\n",
       "    .dataframe thead th {\n",
       "        text-align: right;\n",
       "    }\n",
       "</style>\n",
       "<table border=\"1\" class=\"dataframe\">\n",
       "  <thead>\n",
       "    <tr style=\"text-align: right;\">\n",
       "      <th></th>\n",
       "      <th>label</th>\n",
       "      <th>code</th>\n",
       "      <th>AUC</th>\n",
       "    </tr>\n",
       "  </thead>\n",
       "  <tbody>\n",
       "    <tr>\n",
       "      <th>0</th>\n",
       "      <td>1</td>\n",
       "      <td>1432</td>\n",
       "      <td>1.0</td>\n",
       "    </tr>\n",
       "    <tr>\n",
       "      <th>0</th>\n",
       "      <td>1</td>\n",
       "      <td>1472</td>\n",
       "      <td>1.0</td>\n",
       "    </tr>\n",
       "    <tr>\n",
       "      <th>0</th>\n",
       "      <td>1</td>\n",
       "      <td>2009</td>\n",
       "      <td>1.0</td>\n",
       "    </tr>\n",
       "    <tr>\n",
       "      <th>0</th>\n",
       "      <td>1</td>\n",
       "      <td>2364</td>\n",
       "      <td>1.0</td>\n",
       "    </tr>\n",
       "    <tr>\n",
       "      <th>0</th>\n",
       "      <td>1</td>\n",
       "      <td>2405</td>\n",
       "      <td>1.0</td>\n",
       "    </tr>\n",
       "  </tbody>\n",
       "</table>\n",
       "</div>"
      ],
      "text/plain": [
       "   label  code  AUC\n",
       "0      1  1432  1.0\n",
       "0      1  1472  1.0\n",
       "0      1  2009  1.0\n",
       "0      1  2364  1.0\n",
       "0      1  2405  1.0"
      ]
     },
     "execution_count": 48,
     "metadata": {},
     "output_type": "execute_result"
    }
   ],
   "source": [
    "pre_2016.head()"
   ]
  },
  {
   "cell_type": "code",
   "execution_count": 49,
   "metadata": {},
   "outputs": [],
   "source": [
    "pre_2016.to_csv('pre_2016.csv')\n",
    "pre_2017.to_csv('pre_2017.csv')"
   ]
  }
 ],
 "metadata": {
  "kernelspec": {
   "display_name": "Python 3",
   "language": "python",
   "name": "python3"
  },
  "language_info": {
   "codemirror_mode": {
    "name": "ipython",
    "version": 3
   },
   "file_extension": ".py",
   "mimetype": "text/x-python",
   "name": "python",
   "nbconvert_exporter": "python",
   "pygments_lexer": "ipython3",
   "version": "3.6.4"
  }
 },
 "nbformat": 4,
 "nbformat_minor": 2
}
