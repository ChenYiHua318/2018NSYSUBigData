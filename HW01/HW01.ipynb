{
 "cells": [
  {
   "cell_type": "markdown",
   "metadata": {},
   "source": [
    "# 作業一題目\n",
    "### 描述一個你覺得一個python套件、函數很酷的用法，分享你以前寫過的程式碼，但覺得很沒有效率，後來發現可以用很簡潔很有效率的方式改寫，用jupyter notebook撰寫並說明之"
   ]
  },
  {
   "cell_type": "markdown",
   "metadata": {},
   "source": [
    "## Q1:如何佈署網站?\n",
    "### Flask套件 --- 用於web 程式的佈署,@app.route('/')應用"
   ]
  },
  {
   "cell_type": "code",
   "execution_count": 2,
   "metadata": {},
   "outputs": [],
   "source": [
    "import pandas as pd\n",
    "import pandas_datareader.data as web\n",
    "from flask import Flask"
   ]
  },
  {
   "cell_type": "code",
   "execution_count": 3,
   "metadata": {},
   "outputs": [],
   "source": [
    "app=Flask(__name__)"
   ]
  },
  {
   "cell_type": "code",
   "execution_count": 4,
   "metadata": {},
   "outputs": [],
   "source": [
    "#當進入網址後，可自行設定歡迎詞或說明\n",
    "@app.route('/')\n",
    "def index():\n",
    "    message = \"\"\"此可輸入歡迎詞或說明\n",
    "    \"\"\"\n",
    "    return message"
   ]
  },
  {
   "cell_type": "code",
   "execution_count": 5,
   "metadata": {},
   "outputs": [],
   "source": [
    "#在網址後，加入新的字串(譬如nsyse)，連結至新網頁\n",
    "@app.route('/nyse')\n",
    "def nyse():                   #定應函式(譬如nsyse)\n",
    "    url = \"https://drive.google.com/uc?export=download&id=1SeN6q-7ZKf7WYy5riKV0m7YtPRTJ86hM\"\n",
    "    nyse = pd.read_csv(url)   #透過pd.read_csv，可讀取網址檔案\n",
    "    return nyse.to_html()     #將命名為nsyse檔案，轉出成 htmL。\n",
    "#即可連結至新網頁"
   ]
  },
  {
   "cell_type": "code",
   "execution_count": 6,
   "metadata": {},
   "outputs": [],
   "source": [
    "#連結至新網頁後，將可變部分 <>添加到 URL\n",
    "@app.route('/nyse/<symbol>')\n",
    "def nyse_company(symbol):\n",
    "    url = \"https://drive.google.com/uc?export=download&id=1SeN6q-7ZKf7WYy5riKV0m7YtPRTJ86hM\"\n",
    "    nyse   = pd.read_csv(url)\n",
    "    output = nyse[nyse['Symbol'].isin([symbol])]  \n",
    "             #若[symbol]資料，有在nyse資料中的'Symbol'欄裡，則重組資料為 nyse。並輸出命名為output檔。\n",
    "    return output.to_html()"
   ]
  },
  {
   "cell_type": "code",
   "execution_count": null,
   "metadata": {},
   "outputs": [
    {
     "name": "stderr",
     "output_type": "stream",
     "text": [
      " * Running on http://127.0.0.1:5000/ (Press CTRL+C to quit)\n",
      "127.0.0.1 - - [12/Mar/2018 12:29:46] \"GET / HTTP/1.1\" 200 -\n",
      "127.0.0.1 - - [12/Mar/2018 12:29:48] \"GET /favicon.ico HTTP/1.1\" 404 -\n",
      "127.0.0.1 - - [12/Mar/2018 12:30:02] \"GET /nyse HTTP/1.1\" 200 -\n",
      "127.0.0.1 - - [12/Mar/2018 12:30:38] \"GET /nyse/%3Csymbol%3E HTTP/1.1\" 200 -\n",
      "127.0.0.1 - - [12/Mar/2018 12:31:40] \"GET /nyse/DDD HTTP/1.1\" 200 -\n"
     ]
    }
   ],
   "source": [
    "if __name__==\"__main__\":\n",
    "    app.run()"
   ]
  },
  {
   "cell_type": "markdown",
   "metadata": {},
   "source": [
    "## Q2:如何將寫好的套件執行?\n",
    "### sys套件---可儲存為新套件來執行"
   ]
  },
  {
   "cell_type": "code",
   "execution_count": 12,
   "metadata": {},
   "outputs": [],
   "source": [
    "import sys  #先將寫好的ipynb檔、py檔(純指令) 存入資料夾，ATOM打開py檔--儲存。  即可執行模組。"
   ]
  },
  {
   "cell_type": "code",
   "execution_count": 13,
   "metadata": {},
   "outputs": [],
   "source": [
    "#將local端的.py檔，轉成google共用連結\n",
    "#執行sys.path.append命令\n",
    "sys.path.append(\"https://drive.google.com/uc?export=download&id=1XquEnYrIPSa90pIFcSfWOEXw2iiZTF-N\") "
   ]
  },
  {
   "cell_type": "code",
   "execution_count": 14,
   "metadata": {},
   "outputs": [],
   "source": [
    "import HW01_newpy"
   ]
  },
  {
   "cell_type": "code",
   "execution_count": 15,
   "metadata": {},
   "outputs": [
    {
     "name": "stdout",
     "output_type": "stream",
     "text": [
      "1 X 1 =1\t2 X 1 =2\t3 X 1 =3\t\n",
      "1 X 2 =2\t2 X 2 =4\t3 X 2 =6\t\n",
      "1 X 3 =3\t2 X 3 =6\t3 X 3 =9\t\n",
      "1 X 4 =4\t2 X 4 =8\t3 X 4 =12\t\n",
      "1 X 5 =5\t2 X 5 =10\t3 X 5 =15\t\n",
      "1 X 6 =6\t2 X 6 =12\t3 X 6 =18\t\n",
      "1 X 7 =7\t2 X 7 =14\t3 X 7 =21\t\n",
      "1 X 8 =8\t2 X 8 =16\t3 X 8 =24\t\n",
      "1 X 9 =9\t2 X 9 =18\t3 X 9 =27\t\n",
      "\n"
     ]
    }
   ],
   "source": [
    "HW01_newpy.multiplication_table(1, 3)"
   ]
  },
  {
   "cell_type": "code",
   "execution_count": 16,
   "metadata": {},
   "outputs": [
    {
     "name": "stdout",
     "output_type": "stream",
     "text": [
      "    \n",
      "   *\n",
      "  ***\n",
      " *****\n",
      "*******\n"
     ]
    }
   ],
   "source": [
    "HW01_newpy.pyramid(5)"
   ]
  }
 ],
 "metadata": {
  "kernelspec": {
   "display_name": "Python 3",
   "language": "python",
   "name": "python3"
  },
  "language_info": {
   "codemirror_mode": {
    "name": "ipython",
    "version": 3
   },
   "file_extension": ".py",
   "mimetype": "text/x-python",
   "name": "python",
   "nbconvert_exporter": "python",
   "pygments_lexer": "ipython3",
   "version": "3.6.3"
  }
 },
 "nbformat": 4,
 "nbformat_minor": 2
}
